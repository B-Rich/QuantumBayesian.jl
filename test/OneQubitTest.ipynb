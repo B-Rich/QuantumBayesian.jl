{
 "cells": [
  {
   "cell_type": "code",
   "execution_count": 1,
   "metadata": {
    "collapsed": false
   },
   "outputs": [
    {
     "data": {
      "text/plain": [
       "trajectory (generic function with 1 method)"
      ]
     },
     "execution_count": 1,
     "metadata": {},
     "output_type": "execute_result"
    }
   ],
   "source": [
    "workspace()\n",
    "include(\"../src/Quantum.jl\")"
   ]
  },
  {
   "cell_type": "code",
   "execution_count": 26,
   "metadata": {
    "collapsed": false
   },
   "outputs": [
    {
     "name": "stderr",
     "output_type": "stream",
     "text": [
      "WARNING: redefining constant dt\n"
     ]
    }
   ],
   "source": [
    "const ωq = 0;\n",
    "const Ω  = 2*π;\n",
    "const dt = 1e-6;\n",
    "const τ  = 2;\n",
    "const T1 = 10;\n",
    "const T2 = 10;"
   ]
  },
  {
   "cell_type": "code",
   "execution_count": 27,
   "metadata": {
    "collapsed": false
   },
   "outputs": [
    {
     "name": "stderr",
     "output_type": "stream",
     "text": [
      "WARNING: Method definition run(Any) in module Main at In[23]:2 overwritten at In[27]:2.\n"
     ]
    },
    {
     "data": {
      "text/plain": [
       "run (generic function with 1 method)"
      ]
     },
     "execution_count": 27,
     "metadata": {},
     "output_type": "execute_result"
    }
   ],
   "source": [
    "function run(T)\n",
    "    q = qubit()\n",
    "    const H = (ωq/2)*q(\"z\") + (Ω/2)*q(\"x\");\n",
    "    const D1 = sqrt(1/T1) * q(\"d\");\n",
    "    const D2 = sqrt(1/T2) * q(\"z\");\n",
    "    h = ham(dt, H);\n",
    "    inc = lind(dt, H, D1, D2);\n",
    "    incr = lind_runge(dt, H, D1);\n",
    "    z(ρ) = real(expect(ρ, q(\"z\")));\n",
    "    init = ground(q)\n",
    "    trajectory(init, h, dt, T, z)\n",
    "end"
   ]
  },
  {
   "cell_type": "code",
   "execution_count": 28,
   "metadata": {
    "collapsed": false
   },
   "outputs": [
    {
     "name": "stderr",
     "output_type": "stream",
     "text": [
      "INFO: Trajectory: steps = 20000000, points = 1000, values = 1\n",
      "INFO: Time elapsed: 17.264277707 s, Steps per second: 1.158461439246356e6\n"
     ]
    },
    {
     "data": {
      "text/plain": [
       "(\n",
       "[0.0; 0.02; … ; 19.98; 20.0],\n",
       "\n",
       "[-1.0; -0.992115; … ; -0.992115; -1.0])"
      ]
     },
     "execution_count": 28,
     "metadata": {},
     "output_type": "execute_result"
    }
   ],
   "source": [
    "ts, traj = run(10*τ)"
   ]
  },
  {
   "cell_type": "code",
   "execution_count": 5,
   "metadata": {
    "collapsed": false
   },
   "outputs": [
    {
     "name": "stderr",
     "output_type": "stream",
     "text": [
      "WARNING: Method definition redirect_stdout(Function, Any) in module Compat at /home/dressel/.julia/v0.5/Compat/src/Compat.jl:1600 overwritten in module Compat at /home/dressel/.julia/v0.5/Compat/src/Compat.jl:1600.\n",
      "WARNING: Method definition redirect_stderr(Function, Any) in module Compat at /home/dressel/.julia/v0.5/Compat/src/Compat.jl:1600 overwritten in module Compat at /home/dressel/.julia/v0.5/Compat/src/Compat.jl:1600.\n",
      "WARNING: Method definition redirect_stdin(Function, Any) in module Compat at /home/dressel/.julia/v0.5/Compat/src/Compat.jl:1600 overwritten in module Compat at /home/dressel/.julia/v0.5/Compat/src/Compat.jl:1600.\n",
      "WARNING: Method definition isnull(Any) in module Compat at /home/dressel/.julia/v0.5/Compat/src/Compat.jl:1678 overwritten in module Compat at /home/dressel/.julia/v0.5/Compat/src/Compat.jl:1678.\n"
     ]
    }
   ],
   "source": [
    "using PyPlot"
   ]
  },
  {
   "cell_type": "code",
   "execution_count": 29,
   "metadata": {
    "collapsed": false
   },
   "outputs": [
    {
     "data": {
      "image/png": "[encoded data removed]",
      "text/plain": [
       "PyPlot.Figure(PyObject <matplotlib.figure.Figure object at 0x7fc609215b00>)"
      ]
     },
     "execution_count": 29,
     "metadata": {},
     "output_type": "execute_result"
    }
   ],
   "source": [
    "figure()\n",
    "plot(ts,traj)\n",
    "gcf()"
   ]
  },
  {
   "cell_type": "code",
   "execution_count": null,
   "metadata": {
    "collapsed": true
   },
   "outputs": [],
   "source": []
  }
 ],
 "metadata": {
  "anaconda-cloud": {},
  "kernelspec": {
   "display_name": "Julia 0.5.0",
   "language": "julia",
   "name": "julia-0.5"
  },
  "language_info": {
   "file_extension": ".jl",
   "mimetype": "application/julia",
   "name": "julia",
   "version": "0.5.0"
  }
 },
 "nbformat": 4,
 "nbformat_minor": 0
}
