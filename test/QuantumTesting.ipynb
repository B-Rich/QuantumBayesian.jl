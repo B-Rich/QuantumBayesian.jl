{
 "cells": [
  {
   "cell_type": "code",
   "execution_count": 138,
   "metadata": {
    "collapsed": false
   },
   "outputs": [],
   "source": [
    "workspace()\n",
    "using QuantumBayesian"
   ]
  },
  {
   "cell_type": "code",
   "execution_count": 139,
   "metadata": {
    "collapsed": false
   },
   "outputs": [
    {
     "data": {
      "text/plain": [
       "QuantumBayesian.QSpace: Qubit ⊗ Foo ⊗ Osc(3) ⊗ Qubit\n",
       "Dims  : (2,5,3,2)\n",
       "Ops   : \"ziyz\", \"ziud\", \"ziux\", \"zidz\", \"xini\", \"uidx\", \"xiuz\", \"iidz\", \"diud\", \"xidu\", \"iixz\", \"ziyu\", \"iinu\", \"ziii\", \"iinx\", \"iinz\", \"yidy\", \"iidx\", \"yiiu\", \"iixy\", \"didx\", \"ziuy\", \"ziyx\", \"uiud\", \"yini\", \"iiyx\", \"yidz\", \"uiiy\", \"xiuu\", \"iixx\", \"xinx\", \"xinu\", \"zini\", \"xiii\", \"uiux\", \"zinx\", \"uiyx\", \"uidy\", \"iidu\", \"diii\", \"diuy\", \"uixx\", \"iiii\", \"uiuu\", \"zidd\", \"iiiy\", \"diid\", \"xiyx\", \"zixi\", \"yidi\", \"ziny\", \"uiid\", \"iidi\", \"diny\", \"uinu\", \"xiiz\", \"iiux\", \"yixz\", \"xiux\", \"xiny\", \"xixz\", \"xixi\", \"uidz\", \"zixd\", \"yiyy\", \"diyx\", \"yinu\", \"ziui\", \"xiyi\", \"didd\", \"ziyi\", \"xiiu\", \"yiui\", \"ziix\", \"xiix\", \"zixu\", \"zixy\", \"xixd\", \"xiud\", \"xiui\", \"iiuy\", \"ziiz\", \"zixz\", \"zinz\", \"dind\", \"yinz\", \"uind\", \"xidd\", \"iiyu\", \"uidd\", \"iiiz\", \"uiuz\", \"iixi\", \"uiyz\", \"xidi\", \"ziuz\", \"uixi\", \"dinz\", \"didi\", \"diiz\", \"yidd\", \"uiyd\", \"iixu\", \"didu\", \"dixd\", \"uiiz\", \"iiud\", \"xind\", \"uini\", \"uixz\", \"diuu\", \"iind\", \"ziuu\", \"xinz\", \"iidy\", \"yiuz\", \"yixi\", \"iiiu\", \"uinz\", \"iiny\", \"uiny\", \"zinu\", \"ziiu\", \"xiiy\", \"uidi\", \"yixy\", \"xixx\", \"yiix\", \"yinx\", \"yiny\", \"yind\", \"yiiy\", \"zind\", \"zidx\", \"uiuy\", \"uixy\", \"didy\", \"iiuu\", \"xixu\", \"yiyu\", \"xidz\", \"xiyd\", \"iiyz\", \"iiix\", \"iixd\", \"uiii\", \"yiid\", \"xiid\", \"dixi\", \"iiyd\", \"uiyu\", \"dini\", \"uiyy\", \"iiid\", \"yiyi\", \"yiuy\", \"iiui\", \"ziyy\", \"diui\", \"xixy\", \"diix\", \"dixy\", \"dinx\", \"dixu\", \"yidu\", \"yiuu\", \"uiix\", \"diyz\", \"uixd\", \"yiyx\", \"diiu\", \"iiyy\", \"yiyz\", \"yidx\", \"zixx\", \"diuz\", \"zidi\", \"diiy\", \"ziiy\", \"dinu\", \"iidd\", \"uinx\", \"uiyi\", \"zidy\", \"yiud\", \"diyu\", \"ziid\", \"ziyd\", \"iiyi\", \"yiux\", \"uixu\", \"diyy\", \"diyi\", \"iiuz\", \"yixd\", \"diux\", \"xiyy\", \"iini\", \"diyd\", \"xiuy\", \"xiyz\", \"yiyd\", \"xidy\", \"yixx\", \"uidu\", \"yiii\", \"didz\", \"uiiu\", \"dixz\", \"yiiz\", \"xiyu\", \"uiui\", \"dixx\", \"yixu\", \"zidu\", \"xidx\"\n"
      ]
     },
     "execution_count": 139,
     "metadata": {},
     "output_type": "execute_result"
    }
   ],
   "source": [
    "q = qubit();\n",
    "s = QFactor(5, \"Foo\");\n",
    "o = osc(3);\n",
    "t = q ⊗ s ⊗ o ⊗ q"
   ]
  },
  {
   "cell_type": "code",
   "execution_count": 140,
   "metadata": {
    "collapsed": false
   },
   "outputs": [
    {
     "name": "stdout",
     "output_type": "stream",
     "text": [
      "a11b11c32 == a11b11c32\n",
      "abc[213;121] = a21b12c31\n"
     ]
    }
   ],
   "source": [
    "a = [\"a11\" \"a12\" ; \"a21\" \"a22\"];\n",
    "b = [\"b11\" \"b12\" ; \"b21\" \"b22\"];\n",
    "c = [\"c11\" \"c12\" \"c13\" ; \"c21\" \"c22\" \"c23\"; \"c31\" \"c32\" \"c33\"];\n",
    "abc = ⊗(a,b,c);\n",
    "sys = ⊗(q,q,o);\n",
    "abcv = subview(sys, abc);\n",
    "println(abc[15],\" == \", abcv[15])\n",
    "println(\"abc[213;121] = \",abcv[2,1,3,1,2,1])"
   ]
  },
  {
   "cell_type": "code",
   "execution_count": 131,
   "metadata": {
    "collapsed": false
   },
   "outputs": [
    {
     "data": {
      "text/plain": [
       "12×12 sparse matrix with 12 Complex{Float64} nonzero entries:\n",
       "\t[4 ,  1]  =  1.0+0.0im\n",
       "\t[5 ,  2]  =  1.0+0.0im\n",
       "\t[6 ,  3]  =  1.0+0.0im\n",
       "\t[1 ,  4]  =  1.0+0.0im\n",
       "\t[2 ,  5]  =  1.0+0.0im\n",
       "\t[3 ,  6]  =  1.0+0.0im\n",
       "\t[10,  7]  =  1.0+0.0im\n",
       "\t[11,  8]  =  1.0+0.0im\n",
       "\t[12,  9]  =  1.0+0.0im\n",
       "\t[7 , 10]  =  1.0+0.0im\n",
       "\t[8 , 11]  =  1.0+0.0im\n",
       "\t[9 , 12]  =  1.0+0.0im"
      ]
     },
     "execution_count": 131,
     "metadata": {},
     "output_type": "execute_result"
    }
   ],
   "source": [
    "lift(sys, 2, q(\"x\"))"
   ]
  },
  {
   "cell_type": "code",
   "execution_count": 132,
   "metadata": {
    "collapsed": false
   },
   "outputs": [
    {
     "name": "stdout",
     "output_type": "stream",
     "text": [
      "0.0 + 0.0im\n",
      "425\n",
      "0.0 + 0.0im\n",
      "9.0 + 0.0im\n",
      "9.0 + 0.0im\n",
      "(1,1,3,1,1,2,1,2)\n",
      "9.0 + 0.0im\n"
     ]
    }
   ],
   "source": [
    "tv = subview(t, t(\"yixi\"))\n",
    "tv[1,1,3,1,1,2,1,2] |> println\n",
    "sub2ind(tv, 1,1,3,1,1,2,1,2) |> println\n",
    "t(\"yixi\")[sub2ind(tv, 1,1,3,1,1,2,1,2)] |> println\n",
    "t(\"yixi\")[sub2ind(tv, 1,1,3,1,1,2,1,2)] = 9\n",
    "t(\"yixi\")[sub2ind(tv, 1,1,3,1,1,2,1,2)] |> println\n",
    "tv[1,1,3,1,1,2,1,2] |> println\n",
    "ind2sub(tv, sub2ind(tv, 1,1,3,1,1,2,1,2)) |> println\n",
    "tv[sub2ind(tv, 1,1,3,1,1,2,1,2)] |> println"
   ]
  },
  {
   "cell_type": "code",
   "execution_count": 133,
   "metadata": {
    "collapsed": false
   },
   "outputs": [
    {
     "data": {
      "text/plain": [
       "true"
      ]
     },
     "execution_count": 133,
     "metadata": {},
     "output_type": "execute_result"
    }
   ],
   "source": [
    "q2 = q ⊗ s ⊗ s\n",
    "pt, pm = ptrace(q2,3,q2(\"xii\")./5)\n",
    "pt2, pm2 = ptrace(pt,2,pm./5)\n",
    "pm2 == q(\"x\")"
   ]
  },
  {
   "cell_type": "code",
   "execution_count": 134,
   "metadata": {
    "collapsed": false
   },
   "outputs": [
    {
     "data": {
      "text/plain": [
       "Sparse vector of length 50 with 1 Complex{Float64} nonzero entries:\n",
       "  [13]  =  1.0+0.0im\n"
      ]
     },
     "execution_count": 134,
     "metadata": {},
     "output_type": "execute_result"
    }
   ],
   "source": [
    "te = q2[1,3,3,2,3,1]\n",
    "tev = subview(q2,te)\n",
    "tev[1,3,3,2,3,1]\n",
    "te2 = q2[1,3,3]"
   ]
  },
  {
   "cell_type": "code",
   "execution_count": 135,
   "metadata": {
    "collapsed": false
   },
   "outputs": [
    {
     "name": "stdout",
     "output_type": "stream",
     "text": [
      "1.0 + 0.0im"
     ]
    },
    {
     "data": {
      "text/plain": [
       "Sparse vector of length 50 with 1 Complex{Float64} nonzero entries:\n",
       "  [13]  =  1.0+0.0im\n"
      ]
     },
     "execution_count": 135,
     "metadata": {},
     "output_type": "execute_result"
    }
   ],
   "source": [
    "te2v = subview(q2,te2)\n",
    "te2v[1,3,3] |> print\n",
    "unview(te2v)"
   ]
  },
  {
   "cell_type": "code",
   "execution_count": 136,
   "metadata": {
    "collapsed": false
   },
   "outputs": [
    {
     "data": {
      "text/plain": [
       "Sparse vector of length 15 with 15 Complex{Float64} nonzero entries:\n",
       "  [1 ]  =  0.606531-0.0im\n",
       "  [2 ]  =  0.606531-0.0im\n",
       "  [3 ]  =  0.428882-0.0im\n",
       "  [4 ]  =  0.247615-0.0im\n",
       "  [5 ]  =  0.123808-0.0im\n",
       "  [6 ]  =  0.0553684-0.0im\n",
       "  [7 ]  =  0.0226041-0.0im\n",
       "  [8 ]  =  0.00854353-0.0im\n",
       "  [9 ]  =  0.00302059-0.0im\n",
       "  [10]  =  0.00100686-0.0im\n",
       "  [11]  =  0.000318399-0.0im\n",
       "  [12]  =  9.60008e-5-0.0im\n",
       "  [13]  =  2.7713e-5-0.0im\n",
       "  [14]  =  7.68622e-6-0.0im\n",
       "  [15]  =  2.05423e-6-0.0im\n"
      ]
     },
     "execution_count": 136,
     "metadata": {},
     "output_type": "execute_result"
    }
   ],
   "source": [
    "o = osc(15)\n",
    "v = coherentvec(o, 1)"
   ]
  },
  {
   "cell_type": "code",
   "execution_count": 137,
   "metadata": {
    "collapsed": false
   },
   "outputs": [
    {
     "data": {
      "text/plain": [
       "15×15 sparse matrix with 225 Complex{Float64} nonzero entries:\n",
       "\t[1 ,  1]  =  0.367879+0.0im\n",
       "\t[2 ,  1]  =  0.367879+0.0im\n",
       "\t[3 ,  1]  =  0.26013+0.0im\n",
       "\t[4 ,  1]  =  0.150186+0.0im\n",
       "\t[5 ,  1]  =  0.0750931+0.0im\n",
       "\t[6 ,  1]  =  0.0335826+0.0im\n",
       "\t[7 ,  1]  =  0.0137101+0.0im\n",
       "\t[8 ,  1]  =  0.00518191+0.0im\n",
       "\t[9 ,  1]  =  0.00183208+0.0im\n",
       "\t[10,  1]  =  0.000610694+0.0im\n",
       "\t⋮\n",
       "\t[5 , 15]  =  2.54329e-7+0.0im\n",
       "\t[6 , 15]  =  1.13739e-7+0.0im\n",
       "\t[7 , 15]  =  4.64339e-8+0.0im\n",
       "\t[8 , 15]  =  1.75504e-8+0.0im\n",
       "\t[9 , 15]  =  6.20499e-9+0.0im\n",
       "\t[10, 15]  =  2.06833e-9+0.0im\n",
       "\t[11, 15]  =  6.54063e-10+0.0im\n",
       "\t[12, 15]  =  1.97208e-10+0.0im\n",
       "\t[13, 15]  =  5.69289e-11+0.0im\n",
       "\t[14, 15]  =  1.57892e-11+0.0im\n",
       "\t[15, 15]  =  4.21985e-12+0.0im"
      ]
     },
     "execution_count": 137,
     "metadata": {},
     "output_type": "execute_result"
    }
   ],
   "source": [
    "pv = projector(v)"
   ]
  },
  {
   "cell_type": "code",
   "execution_count": null,
   "metadata": {
    "collapsed": true
   },
   "outputs": [],
   "source": []
  }
 ],
 "metadata": {
  "anaconda-cloud": {},
  "kernelspec": {
   "display_name": "Julia 0.5.0",
   "language": "julia",
   "name": "julia-0.5"
  },
  "language_info": {
   "file_extension": ".jl",
   "mimetype": "application/julia",
   "name": "julia",
   "version": "0.5.0"
  }
 },
 "nbformat": 4,
 "nbformat_minor": 0
}
